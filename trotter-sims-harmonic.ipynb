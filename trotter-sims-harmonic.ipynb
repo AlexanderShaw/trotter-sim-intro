{
 "cells": [
  {
   "cell_type": "markdown",
   "metadata": {},
   "source": [
    "# Trotter Simulates Schrodinger's Equation"
   ]
  },
  {
   "cell_type": "markdown",
   "metadata": {},
   "source": [
    "### This code simulates the first excited state of the quantum harmonic oscilator for time t using steps dt. The code should be narrated/annotated to the point where one that has read the accompanying paper can get the gist of the algorithm"
   ]
  },
  {
   "cell_type": "code",
   "execution_count": 1,
   "metadata": {},
   "outputs": [],
   "source": [
    "import numpy as np\n",
    "from qiskit import QuantumCircuit, ClassicalRegister, QuantumRegister\n",
    "from qiskit.tools.visualization import plot_histogram\n",
    "from qiskit import execute, Aer\n",
    "from qiskit import extensions"
   ]
  },
  {
   "cell_type": "code",
   "execution_count": 2,
   "metadata": {},
   "outputs": [],
   "source": [
    "# Create a Quantum Register with n=3 qubits and 2 auxillary qubits for a workspace.\n",
    "q = QuantumRegister(3, 'q')\n",
    "w = QuantumRegister(2, 'w')\n",
    "n = 3\n",
    "# Create a Quantum Circuit acting on the q and w registers\n",
    "q_circ = QuantumCircuit(q, w)"
   ]
  },
  {
   "cell_type": "code",
   "execution_count": 3,
   "metadata": {},
   "outputs": [],
   "source": [
    "# Function to add the doubly-controlled u1 to the circuit.\n",
    "def ccu1(q_circ, q, w, theta):\n",
    "    q_circ.ccx(q[0],q[1], w[0])\n",
    "    q_circ.ccx(q[2], w[0], w[1])\n",
    "    q_circ.u1(theta, w[1])\n",
    "    q_circ.ccx(q[2], w[0], w[1])\n",
    "    q_circ.ccx(q[0],q[1], w[0])"
   ]
  },
  {
   "cell_type": "code",
   "execution_count": 4,
   "metadata": {},
   "outputs": [],
   "source": [
    "# This function adds gates to q_circ to put a phase shift of theta on the kth basis vector.\n",
    "def kccu1(q_circ,q, w, k, theta):\n",
    "    k='{0:03b}'.format(k)[::-1] # have to reverse bc qiskit notation\n",
    "    nots=[]\n",
    "    \n",
    "    for j in [0,1,2]:\n",
    "        i=k[j]\n",
    "        if i==\"0\":\n",
    "            nots.append(j)\n",
    "\n",
    "    for j in nots:\n",
    "        q_circ.x(q[j])\n",
    "\n",
    "    ccu1(q_circ, q, w, theta)\n",
    "\n",
    "    for j in nots:\n",
    "        q_circ.x(q[j])\n"
   ]
  },
  {
   "cell_type": "code",
   "execution_count": 5,
   "metadata": {},
   "outputs": [],
   "source": [
    "# Defining harmonic potential parameters and simulation parameters. It will be in atomic units\n",
    "L=1\n",
    "C=1\n",
    "M=1\n",
    "hb=1\n",
    "# Since we are using 3 qubits, dx...\n",
    "dx=1/7\n",
    "\n",
    "# accuracy of simulation and how long you'd like to simulate for\n",
    "dt=.01\n",
    "time = 0.2\n",
    "no_runs = int(time/dt)\n",
    "# Range of simulation\n",
    "pos=np.linspace(-2*L,2*L,8)"
   ]
  },
  {
   "cell_type": "code",
   "execution_count": 6,
   "metadata": {},
   "outputs": [],
   "source": [
    "# Need qft and inverse qft. Don't ask why these are coded so differently\n",
    "\n",
    "def qft(circ, q, n):\n",
    "    \"\"\"n-qubit QFT on q in circ.\"\"\"\n",
    "    for j in range(n):\n",
    "        for k in range(j):\n",
    "            circ.cu1(np.pi/float(2**(j-k)), q[j], q[k])\n",
    "        circ.h(q[j])\n",
    "\n",
    "def iqft(circ, q, n):\n",
    "        for j in reversed(range(n)):\n",
    "            circ.u2(0, np.pi, q[j])\n",
    "            for k in reversed(range(j)):\n",
    "                lam = -1.0 * np.pi / float(2 ** (j - k))\n",
    "                circ.u1(lam / 2, q[j])\n",
    "                circ.cx(q[j], q[k])\n",
    "                circ.u1(-lam / 2, q[k])\n",
    "                circ.cx(q[j], q[k])\n",
    "                circ.u1(lam / 2,q[k])\n",
    "        return circ"
   ]
  },
  {
   "cell_type": "code",
   "execution_count": 7,
   "metadata": {},
   "outputs": [],
   "source": [
    "# Calculating phases to shift by\n",
    "\n",
    "def v(x):\n",
    "    return 1/2 * C * x**2\n",
    "\n",
    "h1th= - v(pos)*dt\n",
    "h0th= - (pos**2)*dt /(2*M)"
   ]
  },
  {
   "cell_type": "code",
   "execution_count": 8,
   "metadata": {},
   "outputs": [],
   "source": [
    "# Now we build the computation circuit. First for H0\n",
    "k=0\n",
    "for theta in h1th:\n",
    "    kccu1(q_circ, q, w, k, theta)\n",
    "    k+=1\n",
    "  "
   ]
  },
  {
   "cell_type": "code",
   "execution_count": 9,
   "metadata": {},
   "outputs": [
    {
     "data": {
      "text/plain": [
       "array([ True,  True,  True,  True,  True,  True,  True,  True])"
      ]
     },
     "execution_count": 9,
     "metadata": {},
     "output_type": "execute_result"
    }
   ],
   "source": [
    "# Use this cell to check that the factor matrices are of the expected form (diagonal and correct entries)\n",
    "check_matrix = Aer.get_backend('unitary_simulator')\n",
    "\n",
    "# Execute\n",
    "result = execute(q_circ, check_matrix).result()\n",
    "unitary = result.get_unitary(q_circ)\n",
    "\n",
    "h1circ=np.diagonal(unitary[0:8,0:8])\n",
    "[np.exp(complex(0,1)*x) for x in h1th]==h1circ"
   ]
  },
  {
   "cell_type": "code",
   "execution_count": 10,
   "metadata": {},
   "outputs": [],
   "source": [
    "# Continue building the circuit. This time its for H1\n",
    "\n",
    "iqft(q_circ,q,n)\n",
    "\n",
    "\n",
    "  \n",
    "k=0\n",
    "for theta in h0th:\n",
    "    kccu1(q_circ, q, w, k, theta)\n",
    "    k+=1\n",
    "\n",
    "qft(q_circ,q,n)\n",
    "\n",
    "q_circ_full = QuantumCircuit(q, w)\n",
    "\n",
    "# Do this circuit no_runs times\n",
    "for x in range(no_runs):\n",
    "    q_circ_full += q_circ"
   ]
  },
  {
   "cell_type": "code",
   "execution_count": 11,
   "metadata": {},
   "outputs": [],
   "source": [
    "# Define the initial state and exact time evolution functions\n",
    "\n",
    "w=np.sqrt(k/M)\n",
    "al= M*w/hb\n",
    "def psi(x):\n",
    "    y=np.sqrt(al)*x\n",
    "    return (al/np.pi)**(1/4)*np.sqrt(2)*y*np.exp(-y**2/2)\n",
    "\n",
    "def tpsi(x,t):\n",
    "    return np.exp(-complex(0,1)*3/2*hb*w*t)*psi(x)"
   ]
  },
  {
   "cell_type": "code",
   "execution_count": 12,
   "metadata": {},
   "outputs": [
    {
     "data": {
      "text/plain": [
       "<qiskit.extensions.quantum_initializer._initializer.InitializeGate at 0x154f036b438>"
      ]
     },
     "execution_count": 12,
     "metadata": {},
     "output_type": "execute_result"
    }
   ],
   "source": [
    "# And we encode the initial state into the circuit. This would have to be done manually when using an actual quantum computer.\n",
    "unnormed=[psi(x) for x in np.linspace(-2*L,2*L,8)]\n",
    "norm=np.dot(unnormed, np.conjugate(unnormed))\n",
    "desired_vector = [1/np.sqrt(norm) * x for x in unnormed]\n",
    "\n",
    "q_circ_full.initialize(desired_vector, q)"
   ]
  },
  {
   "cell_type": "code",
   "execution_count": 13,
   "metadata": {},
   "outputs": [],
   "source": [
    "# Storing the normalized initial states and time evolved states for comparison.\n",
    "\n",
    "init_psi_y=desired_vector\n",
    "tpsi_y=[tpsi(x,time) for x in np.linspace(-2*L,2*L,8)]\n",
    "norm=np.dot(tpsi_y, np.conjugate(tpsi_y))\n",
    "tpsi_y = [1/np.sqrt(norm) * x for x in tpsi_y]"
   ]
  },
  {
   "cell_type": "code",
   "execution_count": 14,
   "metadata": {},
   "outputs": [],
   "source": [
    "# Select the StatevectorSimulator from the Aer provider, will return simulated statevector\n",
    "simulator = Aer.get_backend('statevector_simulator')\n",
    "\n",
    "# Execute\n",
    "result = execute(q_circ_full, simulator).result()\n",
    "simstate = -result.get_statevector(q_circ_full)[0:8]"
   ]
  },
  {
   "cell_type": "code",
   "execution_count": 15,
   "metadata": {},
   "outputs": [
    {
     "name": "stderr",
     "output_type": "stream",
     "text": [
      "C:\\Users\\alexa\\Anaconda3\\envs\\qcomp\\lib\\site-packages\\numpy\\core\\numeric.py:591: ComplexWarning: Casting complex values to real discards the imaginary part\n",
      "  return array(a, dtype, copy=False, order=order, subok=True)\n",
      "C:\\Users\\alexa\\Anaconda3\\envs\\qcomp\\lib\\site-packages\\numpy\\core\\numeric.py:538: ComplexWarning: Casting complex values to real discards the imaginary part\n",
      "  return array(a, dtype, copy=False, order=order)\n"
     ]
    },
    {
     "data": {
      "image/png": "[encoded data removed]",
      "text/plain": [
       "<Figure size 432x288 with 1 Axes>"
      ]
     },
     "metadata": {
      "needs_background": "light"
     },
     "output_type": "display_data"
    }
   ],
   "source": [
    "# Plot the real part of the initial state, exact state and simulated state together\n",
    "\n",
    "import matplotlib.pyplot as plt\n",
    "plt.scatter(pos,simstate,label='sim')\n",
    "plt.plot(pos,init_psi_y, label='initial',color='black')\n",
    "plt.plot(pos,tpsi_y, label='exact',color='r')\n",
    "plt.xlabel('Position [a.u.]')\n",
    "plt.ylabel('Re(Psi)')\n",
    "plt.axvline(x=1, color='gray', linestyle='--')\n",
    "plt.axvline(x=-1, color='gray', linestyle='--' )\n",
    "plt.legend(loc='upper right')\n",
    "plt.show()"
   ]
  },
  {
   "cell_type": "code",
   "execution_count": 16,
   "metadata": {},
   "outputs": [
    {
     "data": {
      "text/plain": [
       "(0.022106583166879412+0j)"
      ]
     },
     "execution_count": 16,
     "metadata": {},
     "output_type": "execute_result"
    }
   ],
   "source": [
    "# Calculate error\n",
    "prod=np.dot(simstate,np.conjugate(tpsi_y))\n",
    "err=1-prod*np.conjugate(prod)\n",
    "err"
   ]
  },
  {
   "cell_type": "code",
   "execution_count": 17,
   "metadata": {},
   "outputs": [],
   "source": [
    "# Some precalculated times and errors\n",
    "times=[0.1,0.2,0.3,0.5,1]\n",
    "errs=[0.005579853398264389, 0.022106583166879412,0.04895354395237783,0.12926157605986732,0.41864468908611585]"
   ]
  },
  {
   "cell_type": "code",
   "execution_count": 18,
   "metadata": {},
   "outputs": [
    {
     "data": {
      "image/png": "[encoded data removed]",
      "text/plain": [
       "<Figure size 432x288 with 1 Axes>"
      ]
     },
     "metadata": {
      "needs_background": "light"
     },
     "output_type": "display_data"
    }
   ],
   "source": [
    "# Plot the error as a function of time\n",
    "plt.plot(times,errs,color='black')\n",
    "plt.xlabel('Time [a.u]')\n",
    "plt.ylabel('Error')\n",
    "plt.ylim([0,0.5])\n",
    "plt.show()"
   ]
  },
  {
   "cell_type": "code",
   "execution_count": 19,
   "metadata": {},
   "outputs": [
    {
     "data": {
      "image/png": "[encoded data removed]",
      "text/plain": [
       "<Figure size 432x288 with 1 Axes>"
      ]
     },
     "metadata": {
      "needs_background": "light"
     },
     "output_type": "display_data"
    }
   ],
   "source": [
    "dtimes=[0.0003,0.003,0.03,0.3]\n",
    "derrs=[0.048953068319219195,0.048953110737374184, 0.04895735244745891,0.049381581699224464]\n",
    "plt.semilogx(dtimes,derrs)\n",
    "plt.xlabel('dt [a.u.]')\n",
    "plt.ylabel('Error')\n",
    "plt.ylim([.048,.05])\n",
    "plt.show()"
   ]
  },
  {
   "cell_type": "code",
   "execution_count": null,
   "metadata": {},
   "outputs": [],
   "source": []
  }
 ],
 "metadata": {
  "kernelspec": {
   "display_name": "Python 3",
   "language": "python",
   "name": "python3"
  },
  "language_info": {
   "codemirror_mode": {
    "name": "ipython",
    "version": 3
   },
   "file_extension": ".py",
   "mimetype": "text/x-python",
   "name": "python",
   "nbconvert_exporter": "python",
   "pygments_lexer": "ipython3",
   "version": "3.7.2"
  }
 },
 "nbformat": 4,
 "nbformat_minor": 2
}
